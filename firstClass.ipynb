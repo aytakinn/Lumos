{
  "nbformat": 4,
  "nbformat_minor": 0,
  "metadata": {
    "colab": {
      "name": "firstClass.ipynb",
      "provenance": [],
      "collapsed_sections": [],
      "authorship_tag": "ABX9TyOoPtZ9ZIDChjds1OnH+yDl",
      "include_colab_link": true
    },
    "kernelspec": {
      "name": "python3",
      "display_name": "Python 3"
    }
  },
  "cells": [
    {
      "cell_type": "markdown",
      "metadata": {
        "id": "view-in-github",
        "colab_type": "text"
      },
      "source": [
        "<a href=\"https://colab.research.google.com/github/aytakinn/Lumos/blob/master/firstClass.ipynb\" target=\"_parent\"><img src=\"https://colab.research.google.com/assets/colab-badge.svg\" alt=\"Open In Colab\"/></a>"
      ]
    },
    {
      "cell_type": "code",
      "metadata": {
        "id": "TighRniLewJR",
        "colab_type": "code",
        "outputId": "974e233b-edb9-4111-831f-5e2b3c35a1c4",
        "colab": {
          "base_uri": "https://localhost:8080/",
          "height": 34
        }
      },
      "source": [
        "print(\"hello Lumos\")"
      ],
      "execution_count": 0,
      "outputs": [
        {
          "output_type": "stream",
          "text": [
            "hello Lumos\n"
          ],
          "name": "stdout"
        }
      ]
    },
    {
      "cell_type": "markdown",
      "metadata": {
        "id": "w8p86Jn5fYGY",
        "colab_type": "text"
      },
      "source": [
        "#session1\n"
      ]
    },
    {
      "cell_type": "code",
      "metadata": {
        "id": "wc4OxYnzfcr5",
        "colab_type": "code",
        "outputId": "15e61e98-64ff-4b7f-d572-e16ef4f8b888",
        "colab": {
          "base_uri": "https://localhost:8080/",
          "height": 34
        }
      },
      "source": [
        "print(\"hello Khazar\")"
      ],
      "execution_count": 0,
      "outputs": [
        {
          "output_type": "stream",
          "text": [
            "hello Khazar\n"
          ],
          "name": "stdout"
        }
      ]
    }
  ]
}